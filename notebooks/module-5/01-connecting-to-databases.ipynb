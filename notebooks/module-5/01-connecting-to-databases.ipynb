{
 "cells": [
  {
   "cell_type": "markdown",
   "id": "a080151f",
   "metadata": {},
   "source": [
    "# Connecting to PostgreSQL from Python\n",
    "\n",
    "In this notebook, we will learn how to connect a PostgreSQL database to Python.  \n",
    "This is an essential skill if you want to:\n",
    "- Explore your data directly in **pandas** DataFrames  \n",
    "- Build **data pipelines (ETL/ELT)** to refresh your tables regularly  \n",
    "- Power **machine learning or LLM-based applications** that rely on structured data  \n",
    "- Prototype **dashboards and APIs** that serve insights to end-users  \n",
    "\n",
    "We will go step by step:\n",
    "1. Load database credentials securely from a `.env` file  \n",
    "2. Connect to PostgreSQL using **SQLAlchemy** and **psycopg2**  \n",
    "3. Run sanity checks to confirm the connection  \n",
    "4. Query our nightlights and population tables into pandas  \n",
    "5. Perform simple summaries, joins, and a time-series query  "
   ]
  },
  {
   "cell_type": "markdown",
   "id": "88d556cd",
   "metadata": {},
   "source": [
    "## Required Python Packages\n",
    "Ensure that you installed the required packages."
   ]
  },
  {
   "cell_type": "code",
   "execution_count": 1,
   "id": "491440a6",
   "metadata": {},
   "outputs": [],
   "source": [
    "import os\n",
    "from dotenv import load_dotenv\n",
    "from sqlalchemy import create_engine, text\n",
    "import pandas as pd"
   ]
  },
  {
   "cell_type": "markdown",
   "id": "ef232a12",
   "metadata": {},
   "source": [
    "## PostgreSQL Environment Variables\n",
    "To connect, PostgreSQL needs a few basic pieces of information:\n",
    "\n",
    "- **PGHOST** → The host where PostgreSQL is running.  \n",
    "  For local setups this is usually `localhost`.  \n",
    "- **PGPORT** → The port PostgreSQL listens on.  \n",
    "  Default is `5432`.  \n",
    "- **PGDATABASE** → The database name you created for this lab, e.g. `ntl_pop`.  \n",
    "- **PGUSER** → Your PostgreSQL username.  \n",
    "  This is usually the same as your system username when running locally.  \n",
    "\n",
    "⚠️ **Note:** On a local setup, you usually don’t need a password if PostgreSQL is configured to trust local connections.  \n",
    "In that case, we will not use `PGPASSWORD`.  "
   ]
  },
  {
   "cell_type": "code",
   "execution_count": 2,
   "id": "15f789d9",
   "metadata": {},
   "outputs": [],
   "source": [
    "# 1) Load environment variables\n",
    "# The .env file should be in the repo root with keys:\n",
    "# PGHOST, PGPORT, PGDATABASE, PGUSER, PGPASSWORD\n",
    "\n",
    "# looks for .env in current directory by default\n",
    "load_dotenv()  \n",
    "\n",
    "PGHOST = os.getenv(\"PGHOST\")\n",
    "PGPORT = os.getenv(\"PGPORT\", \"5432\")\n",
    "PGDATABASE = os.getenv(\"PGDATABASE\")\n",
    "PGUSER = os.getenv(\"PGUSER\")\n",
    "PGPASSWORD = os.getenv(\"PGPASSWORD\")"
   ]
  },
  {
   "cell_type": "markdown",
   "id": "729bbf71",
   "metadata": {},
   "source": [
    "## Create  SQLAlchemy engine \n",
    "At this stage, we are establishing the **connection between Python and PostgreSQL**.  \n",
    "The `SQLAlchemy` package plays the role of a **database toolkit and Object Relational Mapper (ORM)**. In our case, we are mainly using it as a **bridge**: it translates Python code into SQL statements that PostgreSQL can understand, and it manages the underlying connection details for us (user, host, port, database). By creating an **engine object**, we set up a reusable gateway that allows us to open sessions, run queries, and easily pull results into Python tools such as **pandas** for analysis. While `psycopg2` handles the low-level communication with PostgreSQL, `SQLAlchemy` provides a higher-level, more user-friendly interface.  "
   ]
  },
  {
   "cell_type": "code",
   "execution_count": 3,
   "id": "be1eecf7",
   "metadata": {},
   "outputs": [
    {
     "name": "stdout",
     "output_type": "stream",
     "text": [
      "Connected as: ('ira2351696', 'ntl_pop')\n"
     ]
    }
   ],
   "source": [
    "\n",
    "engine = create_engine(\n",
    "    f\"postgresql+psycopg2://{PGUSER}:{PGPASSWORD}@{PGHOST}:{PGPORT}/{PGDATABASE}\",\n",
    "    pool_pre_ping=True,\n",
    ")\n",
    "\n",
    "# Test the connection\n",
    "with engine.connect() as conn:\n",
    "    who = conn.execute(text(\"SELECT current_user, current_database();\")).fetchone()\n",
    "    print(\"Connected as:\", who)"
   ]
  },
  {
   "cell_type": "markdown",
   "id": "9ef873a3",
   "metadata": {},
   "source": [
    "## Running SQL Commands\n",
    "Once the connection is established through the SQLAlchemy engine, we can begin sending SQL commands from Python.  \n",
    "What happens in the background is:  \n",
    "\n",
    "1. **You write a SQL query as a string in Python** (e.g., `\"SELECT * FROM ntl_annual LIMIT 5;\"`).  \n",
    "2. **SQLAlchemy passes this query to the underlying driver (`psycopg2`)**, which handles the low-level communication with PostgreSQL.  \n",
    "3. **PostgreSQL executes the query on the database** and returns the results (rows and columns).  \n",
    "4. **SQLAlchemy collects the results** and makes them available to Python.  \n",
    "5. If we use `pandas.read_sql`, the results are automatically converted into a **DataFrame** for analysis, filtering, and visualization.  \n",
    "\n",
    "In short: Python → SQLAlchemy → psycopg2 → PostgreSQL → back to Python as DataFrame.  \n",
    "This allows us to stay in a familiar Python environment while still harnessing the power of SQL.  \n",
    "\n",
    "In the same way, we can also **create new tables**, **update existing tables with additional data**, or even **delete records**—all from within Python.  \n",
    "For example:  \n",
    "- Use `CREATE TABLE` statements to define new tables.  \n",
    "- Use `INSERT` or `COPY` to add more rows of data.  \n",
    "- Use `UPDATE` to modify existing records.  \n",
    "- Use `DROP` to remove tables you no longer need.  \n",
    "\n",
    "This makes Python a powerful interface for both **querying** and **managing** your database directly.  \n"
   ]
  },
  {
   "cell_type": "code",
   "execution_count": 4,
   "id": "c8f3cc4c",
   "metadata": {},
   "outputs": [],
   "source": [
    "def peek(sql: str) -> pd.DataFrame:\n",
    "    \"\"\"Run a SQL query and return the results as a pandas DataFrame.\"\"\"\n",
    "    return pd.read_sql(sql, engine)"
   ]
  },
  {
   "cell_type": "code",
   "execution_count": 5,
   "id": "f9b26b3b",
   "metadata": {},
   "outputs": [
    {
     "name": "stdout",
     "output_type": "stream",
     "text": [
      "\n",
      "--- Table counts ---\n",
      "cells: 2169 rows\n",
      "pop: 2169 rows\n",
      "ntl_annual: 52056 rows\n",
      "ntl_monthly: 325350 rows\n",
      "\n",
      "--- First 5 rows from cells ---\n",
      "         cell_id province_name district_name sector_name cell_name\n",
      "0  RWA.1.1.1.1_1  Amajyaruguru        Burera      Bungwe    Bungwe\n",
      "1  RWA.1.1.1.2_1  Amajyaruguru        Burera      Bungwe  Bushenya\n",
      "2  RWA.1.1.1.3_1  Amajyaruguru        Burera      Bungwe  Mudugari\n",
      "3  RWA.1.1.1.4_1  Amajyaruguru        Burera      Bungwe     Tumba\n",
      "4  RWA.1.1.2.1_1  Amajyaruguru        Burera      Butaro   Gatsibo\n"
     ]
    }
   ],
   "source": [
    "# ========== 3. Sanity checks ==========\n",
    "tables = [\"cells\", \"pop\", \"ntl_annual\", \"ntl_monthly\"]\n",
    "\n",
    "print(\"\\n--- Table counts ---\")\n",
    "for t in tables:\n",
    "    cnt = peek(f\"SELECT COUNT(*) AS n FROM {t};\")\n",
    "    print(f\"{t}: {cnt.loc[0, 'n']} rows\")\n",
    "\n",
    "print(\"\\n--- First 5 rows from cells ---\")\n",
    "print(peek(\"SELECT * FROM cells LIMIT 5\"))"
   ]
  },
  {
   "cell_type": "code",
   "execution_count": 6,
   "id": "385c2f3b",
   "metadata": {},
   "outputs": [
    {
     "name": "stdout",
     "output_type": "stream",
     "text": [
      "\n",
      "--- Average ntl_mean per year ---\n",
      "   year  avg_ntl_mean\n",
      "0  2012      0.207097\n",
      "1  2013      0.253869\n",
      "2  2014      0.257401\n",
      "3  2015      0.244143\n",
      "4  2016      0.257303\n",
      "\n",
      "--- Top 5 brightest cells in 2023 ---\n",
      "          cell_id ntl_mean\n",
      "0   RWA.5.3.6.6_1     None\n",
      "1   RWA.5.3.1.3_1     None\n",
      "2   RWA.5.3.1.2_1     None\n",
      "3  RWA.2.2.15.1_1     None\n",
      "4   RWA.5.3.7.2_1     None\n",
      "\n",
      "--- Light per capita (2023) ---\n",
      "  cell_name district_name  year  light_per_capita  ntl_sum  general_pop\n",
      "0   LacKivu        Rubavu  2023          2.491667    119.6         48.0\n",
      "1   LacKivu       Rutsiro  2023          1.233333     22.2         18.0\n",
      "2   LacKivu       Karongi  2023          0.680000     34.0         50.0\n",
      "3   Biryogo    Nyarugenge  2023          0.423767     94.5        223.0\n",
      "4    Karera      Bugesera  2023          0.346524     64.8        187.0\n",
      "5   LacKivu    Nyamasheke  2023          0.344444     12.4         36.0\n",
      "6   LacKivu        Rusizi  2023          0.321154     16.7         52.0\n",
      "7    Kiyovu    Nyarugenge  2023          0.272395    894.0       3282.0\n",
      "8  Kamukina        Gasabo  2023          0.239410    275.8       1152.0\n",
      "9   Rugando        Gasabo  2023          0.202265    428.6       2119.0\n"
     ]
    }
   ],
   "source": [
    "\n",
    "# ========== 4. Annual summaries ==========\n",
    "print(\"\\n--- Average ntl_mean per year ---\")\n",
    "annual_avg = peek(\"\"\"\n",
    "SELECT year, AVG(ntl_mean) AS avg_ntl_mean\n",
    "FROM ntl_annual\n",
    "GROUP BY year\n",
    "ORDER BY year;\n",
    "\"\"\")\n",
    "print(annual_avg.head())\n",
    "\n",
    "print(\"\\n--- Top 5 brightest cells in 2023 ---\")\n",
    "brightest = peek(\"\"\"\n",
    "SELECT cell_id, ntl_mean\n",
    "FROM ntl_annual\n",
    "WHERE year = 2023\n",
    "ORDER BY ntl_mean DESC\n",
    "LIMIT 5;\n",
    "\"\"\")\n",
    "print(brightest)\n",
    "\n",
    "\n",
    "# ========== 5. Join with population ==========\n",
    "print(\"\\n--- Light per capita (2023) ---\")\n",
    "per_capita = peek(\"\"\"\n",
    "SELECT\n",
    "  c.cell_name,\n",
    "  c.district_name,\n",
    "  a.year,\n",
    "  a.ntl_sum / NULLIF(p.general_pop, 0) AS light_per_capita,\n",
    "  a.ntl_sum,\n",
    "  p.general_pop\n",
    "FROM ntl_annual a\n",
    "JOIN cells c ON a.cell_id = c.cell_id\n",
    "JOIN pop   p ON a.cell_id = p.cell_id\n",
    "WHERE a.year = 2023\n",
    "ORDER BY light_per_capita DESC NULLS LAST\n",
    "LIMIT 10;\n",
    "\"\"\")\n",
    "print(per_capita)"
   ]
  },
  {
   "cell_type": "markdown",
   "id": "bf0dbfd5",
   "metadata": {},
   "source": [
    "# Exercise: Working with Your Database\n",
    "\n",
    "Now that you’ve seen how to connect and query PostgreSQL from Python, it’s time to practice.  \n",
    "In this exercise, you will write and run your own SQL commands inside Python.  \n",
    "\n",
    "### Tasks\n",
    "\n",
    "1. **Create a New Table**  \n",
    "   - Write a SQL command in Python to create a small table called `demo_cells` with the following columns:  \n",
    "     - `id` (integer, primary key)  \n",
    "     - `cell_name` (text)  \n",
    "     - `population` (integer)  \n",
    "\n",
    "2. **Insert Data**  \n",
    "   - Insert at least **two rows** of data into `demo_cells`.  \n",
    "   - Hint: use `INSERT INTO demo_cells (...) VALUES (...);`.  \n",
    "\n",
    "3. **Query Your Data**  \n",
    "   - Select all rows from `demo_cells` and load them into a pandas DataFrame.  \n",
    "   - Display the results.  \n",
    "\n",
    "4. **Update Data**  \n",
    "   - Update one of the rows (for example, change the population of a cell).  \n",
    "   - Run a `SELECT` again to confirm the update worked.  \n",
    "\n",
    "5. **Cleanup (Optional)**  \n",
    "   - Drop the table when you are done: `DROP TABLE demo_cells;`.  \n",
    "\n",
    "---\n",
    "\n",
    "💡 *Tip:* Remember that you can use the `engine.execute(text(\"SQL HERE\"))` pattern for commands like `CREATE`, `INSERT`, `UPDATE`, or `DROP`, and `pd.read_sql(\"SQL HERE\", engine)` when you want to return results into a DataFrame.  \n",
    "\n"
   ]
  },
  {
   "cell_type": "code",
   "execution_count": 9,
   "id": "b2e1b855",
   "metadata": {},
   "outputs": [],
   "source": [
    "with engine.connect() as conn:\n",
    "    conn.execute(\n",
    "        text(\n",
    "            \"\"\"\n",
    "    CREATE TABLE demo_cells (\n",
    "        id INT PRIMARY KEY,\n",
    "        cell_name TEXT,\n",
    "        population INT\n",
    "    )\n",
    "    \"\"\"\n",
    "        )\n",
    "    )\n",
    "    conn.commit()"
   ]
  },
  {
   "cell_type": "code",
   "execution_count": null,
   "id": "1c428772",
   "metadata": {},
   "outputs": [
    {
     "name": "stdout",
     "output_type": "stream",
     "text": [
      "\n",
      "--- Demo cells table ---\n"
     ]
    }
   ],
   "source": [
    "with engine.connect() as conn:\n",
    "    conn.execute(text(\"INSERT INTO demo_cells (id, cell_name, population) VALUES (3, 'Musanze', 1000), (4, 'Gasabo', 2000)\"))\n",
    "    conn.commit()\n"
   ]
  },
  {
   "cell_type": "code",
   "execution_count": 19,
   "id": "67cbbf85",
   "metadata": {},
   "outputs": [
    {
     "data": {
      "text/html": [
       "<div>\n",
       "<style scoped>\n",
       "    .dataframe tbody tr th:only-of-type {\n",
       "        vertical-align: middle;\n",
       "    }\n",
       "\n",
       "    .dataframe tbody tr th {\n",
       "        vertical-align: top;\n",
       "    }\n",
       "\n",
       "    .dataframe thead th {\n",
       "        text-align: right;\n",
       "    }\n",
       "</style>\n",
       "<table border=\"1\" class=\"dataframe\">\n",
       "  <thead>\n",
       "    <tr style=\"text-align: right;\">\n",
       "      <th></th>\n",
       "      <th>id</th>\n",
       "      <th>cell_name</th>\n",
       "      <th>population</th>\n",
       "    </tr>\n",
       "  </thead>\n",
       "  <tbody>\n",
       "    <tr>\n",
       "      <th>0</th>\n",
       "      <td>1</td>\n",
       "      <td>Nyarugenge</td>\n",
       "      <td>1000</td>\n",
       "    </tr>\n",
       "    <tr>\n",
       "      <th>1</th>\n",
       "      <td>2</td>\n",
       "      <td>Kicukiro</td>\n",
       "      <td>2000</td>\n",
       "    </tr>\n",
       "    <tr>\n",
       "      <th>2</th>\n",
       "      <td>3</td>\n",
       "      <td>Musanze</td>\n",
       "      <td>1000</td>\n",
       "    </tr>\n",
       "    <tr>\n",
       "      <th>3</th>\n",
       "      <td>4</td>\n",
       "      <td>Gasabo</td>\n",
       "      <td>2000</td>\n",
       "    </tr>\n",
       "  </tbody>\n",
       "</table>\n",
       "</div>"
      ],
      "text/plain": [
       "   id   cell_name  population\n",
       "0   1  Nyarugenge        1000\n",
       "1   2    Kicukiro        2000\n",
       "2   3     Musanze        1000\n",
       "3   4      Gasabo        2000"
      ]
     },
     "execution_count": 19,
     "metadata": {},
     "output_type": "execute_result"
    }
   ],
   "source": [
    "demo = pd.read_sql(\"SELECT * FROM demo_cells;\", engine)\n",
    "demo"
   ]
  },
  {
   "cell_type": "code",
   "execution_count": 20,
   "id": "cd8209ad",
   "metadata": {},
   "outputs": [],
   "source": [
    "with engine.connect() as conn:\n",
    "    conn.execute(text(\"UPDATE demo_cells SET population = population + 500 WHERE id in(2,4);\"))\n",
    "    conn.commit()"
   ]
  },
  {
   "cell_type": "code",
   "execution_count": 21,
   "id": "0088b05c",
   "metadata": {},
   "outputs": [
    {
     "data": {
      "text/html": [
       "<div>\n",
       "<style scoped>\n",
       "    .dataframe tbody tr th:only-of-type {\n",
       "        vertical-align: middle;\n",
       "    }\n",
       "\n",
       "    .dataframe tbody tr th {\n",
       "        vertical-align: top;\n",
       "    }\n",
       "\n",
       "    .dataframe thead th {\n",
       "        text-align: right;\n",
       "    }\n",
       "</style>\n",
       "<table border=\"1\" class=\"dataframe\">\n",
       "  <thead>\n",
       "    <tr style=\"text-align: right;\">\n",
       "      <th></th>\n",
       "      <th>id</th>\n",
       "      <th>cell_name</th>\n",
       "      <th>population</th>\n",
       "    </tr>\n",
       "  </thead>\n",
       "  <tbody>\n",
       "    <tr>\n",
       "      <th>0</th>\n",
       "      <td>1</td>\n",
       "      <td>Nyarugenge</td>\n",
       "      <td>1000</td>\n",
       "    </tr>\n",
       "    <tr>\n",
       "      <th>1</th>\n",
       "      <td>3</td>\n",
       "      <td>Musanze</td>\n",
       "      <td>1000</td>\n",
       "    </tr>\n",
       "    <tr>\n",
       "      <th>2</th>\n",
       "      <td>2</td>\n",
       "      <td>Kicukiro</td>\n",
       "      <td>2500</td>\n",
       "    </tr>\n",
       "    <tr>\n",
       "      <th>3</th>\n",
       "      <td>4</td>\n",
       "      <td>Gasabo</td>\n",
       "      <td>2500</td>\n",
       "    </tr>\n",
       "  </tbody>\n",
       "</table>\n",
       "</div>"
      ],
      "text/plain": [
       "   id   cell_name  population\n",
       "0   1  Nyarugenge        1000\n",
       "1   3     Musanze        1000\n",
       "2   2    Kicukiro        2500\n",
       "3   4      Gasabo        2500"
      ]
     },
     "execution_count": 21,
     "metadata": {},
     "output_type": "execute_result"
    }
   ],
   "source": [
    "demo_update = pd.read_sql(\"SELECT * FROM demo_cells;\", engine)\n",
    "demo_update"
   ]
  },
  {
   "cell_type": "code",
   "execution_count": 22,
   "id": "5757a04b",
   "metadata": {},
   "outputs": [],
   "source": [
    "with engine.connect() as conn:\n",
    "    conn.execute(text(\"DELETE FROM demo_cells WHERE id IN (3, 4);\"))\n",
    "    conn.commit()"
   ]
  },
  {
   "cell_type": "code",
   "execution_count": 23,
   "id": "7b1cbb79",
   "metadata": {},
   "outputs": [
    {
     "data": {
      "text/html": [
       "<div>\n",
       "<style scoped>\n",
       "    .dataframe tbody tr th:only-of-type {\n",
       "        vertical-align: middle;\n",
       "    }\n",
       "\n",
       "    .dataframe tbody tr th {\n",
       "        vertical-align: top;\n",
       "    }\n",
       "\n",
       "    .dataframe thead th {\n",
       "        text-align: right;\n",
       "    }\n",
       "</style>\n",
       "<table border=\"1\" class=\"dataframe\">\n",
       "  <thead>\n",
       "    <tr style=\"text-align: right;\">\n",
       "      <th></th>\n",
       "      <th>id</th>\n",
       "      <th>cell_name</th>\n",
       "      <th>population</th>\n",
       "    </tr>\n",
       "  </thead>\n",
       "  <tbody>\n",
       "    <tr>\n",
       "      <th>0</th>\n",
       "      <td>1</td>\n",
       "      <td>Nyarugenge</td>\n",
       "      <td>1000</td>\n",
       "    </tr>\n",
       "    <tr>\n",
       "      <th>1</th>\n",
       "      <td>2</td>\n",
       "      <td>Kicukiro</td>\n",
       "      <td>2500</td>\n",
       "    </tr>\n",
       "  </tbody>\n",
       "</table>\n",
       "</div>"
      ],
      "text/plain": [
       "   id   cell_name  population\n",
       "0   1  Nyarugenge        1000\n",
       "1   2    Kicukiro        2500"
      ]
     },
     "execution_count": 23,
     "metadata": {},
     "output_type": "execute_result"
    }
   ],
   "source": [
    "demo_delete = pd.read_sql(\"SELECT * FROM demo_cells;\", engine)\n",
    "demo_delete"
   ]
  },
  {
   "cell_type": "code",
   "execution_count": 25,
   "id": "065e34fa",
   "metadata": {},
   "outputs": [],
   "source": [
    "with engine.connect() as conn:\n",
    "    conn.execute(text(\"DROP TABLE demo_cells;\"))\n",
    "    conn.commit()"
   ]
  },
  {
   "cell_type": "code",
   "execution_count": 26,
   "id": "a3594194",
   "metadata": {},
   "outputs": [
    {
     "ename": "ProgrammingError",
     "evalue": "(psycopg2.errors.UndefinedTable) relation \"demo_cells\" does not exist\nLINE 1: SELECT * FROM demo_cells;\n                      ^\n\n[SQL: SELECT * FROM demo_cells;]\n(Background on this error at: https://sqlalche.me/e/20/f405)",
     "output_type": "error",
     "traceback": [
      "\u001b[31m---------------------------------------------------------------------------\u001b[39m",
      "\u001b[31mUndefinedTable\u001b[39m                            Traceback (most recent call last)",
      "\u001b[36mFile \u001b[39m\u001b[32m~/Desktop/airflow_environment/venv/lib/python3.11/site-packages/sqlalchemy/engine/base.py:1960\u001b[39m, in \u001b[36mConnection._exec_single_context\u001b[39m\u001b[34m(self, dialect, context, statement, parameters)\u001b[39m\n\u001b[32m   1959\u001b[39m     \u001b[38;5;28;01mif\u001b[39;00m \u001b[38;5;129;01mnot\u001b[39;00m evt_handled:\n\u001b[32m-> \u001b[39m\u001b[32m1960\u001b[39m         \u001b[38;5;28;43mself\u001b[39;49m\u001b[43m.\u001b[49m\u001b[43mdialect\u001b[49m\u001b[43m.\u001b[49m\u001b[43mdo_execute\u001b[49m\u001b[43m(\u001b[49m\n\u001b[32m   1961\u001b[39m \u001b[43m            \u001b[49m\u001b[43mcursor\u001b[49m\u001b[43m,\u001b[49m\u001b[43m \u001b[49m\u001b[43mstr_statement\u001b[49m\u001b[43m,\u001b[49m\u001b[43m \u001b[49m\u001b[43meffective_parameters\u001b[49m\u001b[43m,\u001b[49m\u001b[43m \u001b[49m\u001b[43mcontext\u001b[49m\n\u001b[32m   1962\u001b[39m \u001b[43m        \u001b[49m\u001b[43m)\u001b[49m\n\u001b[32m   1964\u001b[39m \u001b[38;5;28;01mif\u001b[39;00m \u001b[38;5;28mself\u001b[39m._has_events \u001b[38;5;129;01mor\u001b[39;00m \u001b[38;5;28mself\u001b[39m.engine._has_events:\n",
      "\u001b[36mFile \u001b[39m\u001b[32m~/Desktop/airflow_environment/venv/lib/python3.11/site-packages/sqlalchemy/engine/default.py:924\u001b[39m, in \u001b[36mDefaultDialect.do_execute\u001b[39m\u001b[34m(self, cursor, statement, parameters, context)\u001b[39m\n\u001b[32m    923\u001b[39m \u001b[38;5;28;01mdef\u001b[39;00m\u001b[38;5;250m \u001b[39m\u001b[34mdo_execute\u001b[39m(\u001b[38;5;28mself\u001b[39m, cursor, statement, parameters, context=\u001b[38;5;28;01mNone\u001b[39;00m):\n\u001b[32m--> \u001b[39m\u001b[32m924\u001b[39m     \u001b[43mcursor\u001b[49m\u001b[43m.\u001b[49m\u001b[43mexecute\u001b[49m\u001b[43m(\u001b[49m\u001b[43mstatement\u001b[49m\u001b[43m,\u001b[49m\u001b[43m \u001b[49m\u001b[43mparameters\u001b[49m\u001b[43m)\u001b[49m\n",
      "\u001b[31mUndefinedTable\u001b[39m: relation \"demo_cells\" does not exist\nLINE 1: SELECT * FROM demo_cells;\n                      ^\n",
      "\nThe above exception was the direct cause of the following exception:\n",
      "\u001b[31mProgrammingError\u001b[39m                          Traceback (most recent call last)",
      "\u001b[36mCell\u001b[39m\u001b[36m \u001b[39m\u001b[32mIn[26]\u001b[39m\u001b[32m, line 1\u001b[39m\n\u001b[32m----> \u001b[39m\u001b[32m1\u001b[39m demo_drop = \u001b[43mpd\u001b[49m\u001b[43m.\u001b[49m\u001b[43mread_sql\u001b[49m\u001b[43m(\u001b[49m\u001b[33;43m\"\u001b[39;49m\u001b[33;43mSELECT * FROM demo_cells;\u001b[39;49m\u001b[33;43m\"\u001b[39;49m\u001b[43m,\u001b[49m\u001b[43m \u001b[49m\u001b[43mengine\u001b[49m\u001b[43m)\u001b[49m\n\u001b[32m      2\u001b[39m demo_drop\n",
      "\u001b[36mFile \u001b[39m\u001b[32m~/Desktop/airflow_environment/venv/lib/python3.11/site-packages/pandas/io/sql.py:734\u001b[39m, in \u001b[36mread_sql\u001b[39m\u001b[34m(sql, con, index_col, coerce_float, params, parse_dates, columns, chunksize, dtype_backend, dtype)\u001b[39m\n\u001b[32m    724\u001b[39m     \u001b[38;5;28;01mreturn\u001b[39;00m pandas_sql.read_table(\n\u001b[32m    725\u001b[39m         sql,\n\u001b[32m    726\u001b[39m         index_col=index_col,\n\u001b[32m   (...)\u001b[39m\u001b[32m    731\u001b[39m         dtype_backend=dtype_backend,\n\u001b[32m    732\u001b[39m     )\n\u001b[32m    733\u001b[39m \u001b[38;5;28;01melse\u001b[39;00m:\n\u001b[32m--> \u001b[39m\u001b[32m734\u001b[39m     \u001b[38;5;28;01mreturn\u001b[39;00m \u001b[43mpandas_sql\u001b[49m\u001b[43m.\u001b[49m\u001b[43mread_query\u001b[49m\u001b[43m(\u001b[49m\n\u001b[32m    735\u001b[39m \u001b[43m        \u001b[49m\u001b[43msql\u001b[49m\u001b[43m,\u001b[49m\n\u001b[32m    736\u001b[39m \u001b[43m        \u001b[49m\u001b[43mindex_col\u001b[49m\u001b[43m=\u001b[49m\u001b[43mindex_col\u001b[49m\u001b[43m,\u001b[49m\n\u001b[32m    737\u001b[39m \u001b[43m        \u001b[49m\u001b[43mparams\u001b[49m\u001b[43m=\u001b[49m\u001b[43mparams\u001b[49m\u001b[43m,\u001b[49m\n\u001b[32m    738\u001b[39m \u001b[43m        \u001b[49m\u001b[43mcoerce_float\u001b[49m\u001b[43m=\u001b[49m\u001b[43mcoerce_float\u001b[49m\u001b[43m,\u001b[49m\n\u001b[32m    739\u001b[39m \u001b[43m        \u001b[49m\u001b[43mparse_dates\u001b[49m\u001b[43m=\u001b[49m\u001b[43mparse_dates\u001b[49m\u001b[43m,\u001b[49m\n\u001b[32m    740\u001b[39m \u001b[43m        \u001b[49m\u001b[43mchunksize\u001b[49m\u001b[43m=\u001b[49m\u001b[43mchunksize\u001b[49m\u001b[43m,\u001b[49m\n\u001b[32m    741\u001b[39m \u001b[43m        \u001b[49m\u001b[43mdtype_backend\u001b[49m\u001b[43m=\u001b[49m\u001b[43mdtype_backend\u001b[49m\u001b[43m,\u001b[49m\n\u001b[32m    742\u001b[39m \u001b[43m        \u001b[49m\u001b[43mdtype\u001b[49m\u001b[43m=\u001b[49m\u001b[43mdtype\u001b[49m\u001b[43m,\u001b[49m\n\u001b[32m    743\u001b[39m \u001b[43m    \u001b[49m\u001b[43m)\u001b[49m\n",
      "\u001b[36mFile \u001b[39m\u001b[32m~/Desktop/airflow_environment/venv/lib/python3.11/site-packages/pandas/io/sql.py:1839\u001b[39m, in \u001b[36mSQLDatabase.read_query\u001b[39m\u001b[34m(self, sql, index_col, coerce_float, parse_dates, params, chunksize, dtype, dtype_backend)\u001b[39m\n\u001b[32m   1782\u001b[39m \u001b[38;5;28;01mdef\u001b[39;00m\u001b[38;5;250m \u001b[39m\u001b[34mread_query\u001b[39m(\n\u001b[32m   1783\u001b[39m     \u001b[38;5;28mself\u001b[39m,\n\u001b[32m   1784\u001b[39m     sql: \u001b[38;5;28mstr\u001b[39m,\n\u001b[32m   (...)\u001b[39m\u001b[32m   1791\u001b[39m     dtype_backend: DtypeBackend | Literal[\u001b[33m\"\u001b[39m\u001b[33mnumpy\u001b[39m\u001b[33m\"\u001b[39m] = \u001b[33m\"\u001b[39m\u001b[33mnumpy\u001b[39m\u001b[33m\"\u001b[39m,\n\u001b[32m   1792\u001b[39m ) -> DataFrame | Iterator[DataFrame]:\n\u001b[32m   1793\u001b[39m \u001b[38;5;250m    \u001b[39m\u001b[33;03m\"\"\"\u001b[39;00m\n\u001b[32m   1794\u001b[39m \u001b[33;03m    Read SQL query into a DataFrame.\u001b[39;00m\n\u001b[32m   1795\u001b[39m \n\u001b[32m   (...)\u001b[39m\u001b[32m   1837\u001b[39m \n\u001b[32m   1838\u001b[39m \u001b[33;03m    \"\"\"\u001b[39;00m\n\u001b[32m-> \u001b[39m\u001b[32m1839\u001b[39m     result = \u001b[38;5;28;43mself\u001b[39;49m\u001b[43m.\u001b[49m\u001b[43mexecute\u001b[49m\u001b[43m(\u001b[49m\u001b[43msql\u001b[49m\u001b[43m,\u001b[49m\u001b[43m \u001b[49m\u001b[43mparams\u001b[49m\u001b[43m)\u001b[49m\n\u001b[32m   1840\u001b[39m     columns = result.keys()\n\u001b[32m   1842\u001b[39m     \u001b[38;5;28;01mif\u001b[39;00m chunksize \u001b[38;5;129;01mis\u001b[39;00m \u001b[38;5;129;01mnot\u001b[39;00m \u001b[38;5;28;01mNone\u001b[39;00m:\n",
      "\u001b[36mFile \u001b[39m\u001b[32m~/Desktop/airflow_environment/venv/lib/python3.11/site-packages/pandas/io/sql.py:1662\u001b[39m, in \u001b[36mSQLDatabase.execute\u001b[39m\u001b[34m(self, sql, params)\u001b[39m\n\u001b[32m   1660\u001b[39m args = [] \u001b[38;5;28;01mif\u001b[39;00m params \u001b[38;5;129;01mis\u001b[39;00m \u001b[38;5;28;01mNone\u001b[39;00m \u001b[38;5;28;01melse\u001b[39;00m [params]\n\u001b[32m   1661\u001b[39m \u001b[38;5;28;01mif\u001b[39;00m \u001b[38;5;28misinstance\u001b[39m(sql, \u001b[38;5;28mstr\u001b[39m):\n\u001b[32m-> \u001b[39m\u001b[32m1662\u001b[39m     \u001b[38;5;28;01mreturn\u001b[39;00m \u001b[38;5;28;43mself\u001b[39;49m\u001b[43m.\u001b[49m\u001b[43mcon\u001b[49m\u001b[43m.\u001b[49m\u001b[43mexec_driver_sql\u001b[49m\u001b[43m(\u001b[49m\u001b[43msql\u001b[49m\u001b[43m,\u001b[49m\u001b[43m \u001b[49m\u001b[43m*\u001b[49m\u001b[43margs\u001b[49m\u001b[43m)\u001b[49m\n\u001b[32m   1663\u001b[39m \u001b[38;5;28;01mreturn\u001b[39;00m \u001b[38;5;28mself\u001b[39m.con.execute(sql, *args)\n",
      "\u001b[36mFile \u001b[39m\u001b[32m~/Desktop/airflow_environment/venv/lib/python3.11/site-packages/sqlalchemy/engine/base.py:1769\u001b[39m, in \u001b[36mConnection.exec_driver_sql\u001b[39m\u001b[34m(self, statement, parameters, execution_options)\u001b[39m\n\u001b[32m   1764\u001b[39m execution_options = \u001b[38;5;28mself\u001b[39m._execution_options.merge_with(\n\u001b[32m   1765\u001b[39m     execution_options\n\u001b[32m   1766\u001b[39m )\n\u001b[32m   1768\u001b[39m dialect = \u001b[38;5;28mself\u001b[39m.dialect\n\u001b[32m-> \u001b[39m\u001b[32m1769\u001b[39m ret = \u001b[38;5;28;43mself\u001b[39;49m\u001b[43m.\u001b[49m\u001b[43m_execute_context\u001b[49m\u001b[43m(\u001b[49m\n\u001b[32m   1770\u001b[39m \u001b[43m    \u001b[49m\u001b[43mdialect\u001b[49m\u001b[43m,\u001b[49m\n\u001b[32m   1771\u001b[39m \u001b[43m    \u001b[49m\u001b[43mdialect\u001b[49m\u001b[43m.\u001b[49m\u001b[43mexecution_ctx_cls\u001b[49m\u001b[43m.\u001b[49m\u001b[43m_init_statement\u001b[49m\u001b[43m,\u001b[49m\n\u001b[32m   1772\u001b[39m \u001b[43m    \u001b[49m\u001b[43mstatement\u001b[49m\u001b[43m,\u001b[49m\n\u001b[32m   1773\u001b[39m \u001b[43m    \u001b[49m\u001b[38;5;28;43;01mNone\u001b[39;49;00m\u001b[43m,\u001b[49m\n\u001b[32m   1774\u001b[39m \u001b[43m    \u001b[49m\u001b[43mexecution_options\u001b[49m\u001b[43m,\u001b[49m\n\u001b[32m   1775\u001b[39m \u001b[43m    \u001b[49m\u001b[43mstatement\u001b[49m\u001b[43m,\u001b[49m\n\u001b[32m   1776\u001b[39m \u001b[43m    \u001b[49m\u001b[43mdistilled_parameters\u001b[49m\u001b[43m,\u001b[49m\n\u001b[32m   1777\u001b[39m \u001b[43m\u001b[49m\u001b[43m)\u001b[49m\n\u001b[32m   1779\u001b[39m \u001b[38;5;28;01mreturn\u001b[39;00m ret\n",
      "\u001b[36mFile \u001b[39m\u001b[32m~/Desktop/airflow_environment/venv/lib/python3.11/site-packages/sqlalchemy/engine/base.py:1839\u001b[39m, in \u001b[36mConnection._execute_context\u001b[39m\u001b[34m(self, dialect, constructor, statement, parameters, execution_options, *args, **kw)\u001b[39m\n\u001b[32m   1834\u001b[39m     \u001b[38;5;28;01mreturn\u001b[39;00m \u001b[38;5;28mself\u001b[39m._exec_insertmany_context(\n\u001b[32m   1835\u001b[39m         dialect,\n\u001b[32m   1836\u001b[39m         context,\n\u001b[32m   1837\u001b[39m     )\n\u001b[32m   1838\u001b[39m \u001b[38;5;28;01melse\u001b[39;00m:\n\u001b[32m-> \u001b[39m\u001b[32m1839\u001b[39m     \u001b[38;5;28;01mreturn\u001b[39;00m \u001b[38;5;28;43mself\u001b[39;49m\u001b[43m.\u001b[49m\u001b[43m_exec_single_context\u001b[49m\u001b[43m(\u001b[49m\n\u001b[32m   1840\u001b[39m \u001b[43m        \u001b[49m\u001b[43mdialect\u001b[49m\u001b[43m,\u001b[49m\u001b[43m \u001b[49m\u001b[43mcontext\u001b[49m\u001b[43m,\u001b[49m\u001b[43m \u001b[49m\u001b[43mstatement\u001b[49m\u001b[43m,\u001b[49m\u001b[43m \u001b[49m\u001b[43mparameters\u001b[49m\n\u001b[32m   1841\u001b[39m \u001b[43m    \u001b[49m\u001b[43m)\u001b[49m\n",
      "\u001b[36mFile \u001b[39m\u001b[32m~/Desktop/airflow_environment/venv/lib/python3.11/site-packages/sqlalchemy/engine/base.py:1979\u001b[39m, in \u001b[36mConnection._exec_single_context\u001b[39m\u001b[34m(self, dialect, context, statement, parameters)\u001b[39m\n\u001b[32m   1976\u001b[39m     result = context._setup_result_proxy()\n\u001b[32m   1978\u001b[39m \u001b[38;5;28;01mexcept\u001b[39;00m \u001b[38;5;167;01mBaseException\u001b[39;00m \u001b[38;5;28;01mas\u001b[39;00m e:\n\u001b[32m-> \u001b[39m\u001b[32m1979\u001b[39m     \u001b[38;5;28;43mself\u001b[39;49m\u001b[43m.\u001b[49m\u001b[43m_handle_dbapi_exception\u001b[49m\u001b[43m(\u001b[49m\n\u001b[32m   1980\u001b[39m \u001b[43m        \u001b[49m\u001b[43me\u001b[49m\u001b[43m,\u001b[49m\u001b[43m \u001b[49m\u001b[43mstr_statement\u001b[49m\u001b[43m,\u001b[49m\u001b[43m \u001b[49m\u001b[43meffective_parameters\u001b[49m\u001b[43m,\u001b[49m\u001b[43m \u001b[49m\u001b[43mcursor\u001b[49m\u001b[43m,\u001b[49m\u001b[43m \u001b[49m\u001b[43mcontext\u001b[49m\n\u001b[32m   1981\u001b[39m \u001b[43m    \u001b[49m\u001b[43m)\u001b[49m\n\u001b[32m   1983\u001b[39m \u001b[38;5;28;01mreturn\u001b[39;00m result\n",
      "\u001b[36mFile \u001b[39m\u001b[32m~/Desktop/airflow_environment/venv/lib/python3.11/site-packages/sqlalchemy/engine/base.py:2335\u001b[39m, in \u001b[36mConnection._handle_dbapi_exception\u001b[39m\u001b[34m(self, e, statement, parameters, cursor, context, is_sub_exec)\u001b[39m\n\u001b[32m   2333\u001b[39m \u001b[38;5;28;01melif\u001b[39;00m should_wrap:\n\u001b[32m   2334\u001b[39m     \u001b[38;5;28;01massert\u001b[39;00m sqlalchemy_exception \u001b[38;5;129;01mis\u001b[39;00m \u001b[38;5;129;01mnot\u001b[39;00m \u001b[38;5;28;01mNone\u001b[39;00m\n\u001b[32m-> \u001b[39m\u001b[32m2335\u001b[39m     \u001b[38;5;28;01mraise\u001b[39;00m sqlalchemy_exception.with_traceback(exc_info[\u001b[32m2\u001b[39m]) \u001b[38;5;28;01mfrom\u001b[39;00m\u001b[38;5;250m \u001b[39m\u001b[34;01me\u001b[39;00m\n\u001b[32m   2336\u001b[39m \u001b[38;5;28;01melse\u001b[39;00m:\n\u001b[32m   2337\u001b[39m     \u001b[38;5;28;01massert\u001b[39;00m exc_info[\u001b[32m1\u001b[39m] \u001b[38;5;129;01mis\u001b[39;00m \u001b[38;5;129;01mnot\u001b[39;00m \u001b[38;5;28;01mNone\u001b[39;00m\n",
      "\u001b[36mFile \u001b[39m\u001b[32m~/Desktop/airflow_environment/venv/lib/python3.11/site-packages/sqlalchemy/engine/base.py:1960\u001b[39m, in \u001b[36mConnection._exec_single_context\u001b[39m\u001b[34m(self, dialect, context, statement, parameters)\u001b[39m\n\u001b[32m   1958\u001b[39m                 \u001b[38;5;28;01mbreak\u001b[39;00m\n\u001b[32m   1959\u001b[39m     \u001b[38;5;28;01mif\u001b[39;00m \u001b[38;5;129;01mnot\u001b[39;00m evt_handled:\n\u001b[32m-> \u001b[39m\u001b[32m1960\u001b[39m         \u001b[38;5;28;43mself\u001b[39;49m\u001b[43m.\u001b[49m\u001b[43mdialect\u001b[49m\u001b[43m.\u001b[49m\u001b[43mdo_execute\u001b[49m\u001b[43m(\u001b[49m\n\u001b[32m   1961\u001b[39m \u001b[43m            \u001b[49m\u001b[43mcursor\u001b[49m\u001b[43m,\u001b[49m\u001b[43m \u001b[49m\u001b[43mstr_statement\u001b[49m\u001b[43m,\u001b[49m\u001b[43m \u001b[49m\u001b[43meffective_parameters\u001b[49m\u001b[43m,\u001b[49m\u001b[43m \u001b[49m\u001b[43mcontext\u001b[49m\n\u001b[32m   1962\u001b[39m \u001b[43m        \u001b[49m\u001b[43m)\u001b[49m\n\u001b[32m   1964\u001b[39m \u001b[38;5;28;01mif\u001b[39;00m \u001b[38;5;28mself\u001b[39m._has_events \u001b[38;5;129;01mor\u001b[39;00m \u001b[38;5;28mself\u001b[39m.engine._has_events:\n\u001b[32m   1965\u001b[39m     \u001b[38;5;28mself\u001b[39m.dispatch.after_cursor_execute(\n\u001b[32m   1966\u001b[39m         \u001b[38;5;28mself\u001b[39m,\n\u001b[32m   1967\u001b[39m         cursor,\n\u001b[32m   (...)\u001b[39m\u001b[32m   1971\u001b[39m         context.executemany,\n\u001b[32m   1972\u001b[39m     )\n",
      "\u001b[36mFile \u001b[39m\u001b[32m~/Desktop/airflow_environment/venv/lib/python3.11/site-packages/sqlalchemy/engine/default.py:924\u001b[39m, in \u001b[36mDefaultDialect.do_execute\u001b[39m\u001b[34m(self, cursor, statement, parameters, context)\u001b[39m\n\u001b[32m    923\u001b[39m \u001b[38;5;28;01mdef\u001b[39;00m\u001b[38;5;250m \u001b[39m\u001b[34mdo_execute\u001b[39m(\u001b[38;5;28mself\u001b[39m, cursor, statement, parameters, context=\u001b[38;5;28;01mNone\u001b[39;00m):\n\u001b[32m--> \u001b[39m\u001b[32m924\u001b[39m     \u001b[43mcursor\u001b[49m\u001b[43m.\u001b[49m\u001b[43mexecute\u001b[49m\u001b[43m(\u001b[49m\u001b[43mstatement\u001b[49m\u001b[43m,\u001b[49m\u001b[43m \u001b[49m\u001b[43mparameters\u001b[49m\u001b[43m)\u001b[49m\n",
      "\u001b[31mProgrammingError\u001b[39m: (psycopg2.errors.UndefinedTable) relation \"demo_cells\" does not exist\nLINE 1: SELECT * FROM demo_cells;\n                      ^\n\n[SQL: SELECT * FROM demo_cells;]\n(Background on this error at: https://sqlalche.me/e/20/f405)"
     ]
    }
   ],
   "source": [
    "demo_drop = pd.read_sql(\"SELECT * FROM demo_cells;\", engine)\n",
    "demo_drop"
   ]
  },
  {
   "cell_type": "markdown",
   "id": "e2edcf84",
   "metadata": {
    "vscode": {
     "languageId": "markdown"
    }
   },
   "source": [
    "## Summary: Working with PostgreSQL in Python\n",
    "\n",
    "In this notebook, you learned how to connect Python to a PostgreSQL database, configure the connection using environment variables, and create a SQLAlchemy engine that acts as a bridge between Python and SQL. You executed key operations such as checking table counts, exploring data with a helper function, and running queries to analyze nightlight trends, identify the brightest cells, and compute light-per-capita statistics by joining nightlights with population data. In the same way, Python can interact with many other databases — whether they are hosted locally on your machine, running on a server in the cloud, or provided as enterprise solutions. This includes both proprietary systems such as Microsoft SQL Server and Oracle, as well as open-source databases like MySQL, MariaDB, and SQLite. Thanks to libraries like SQLAlchemy, the workflow you practiced here is portable: once you learn how to query and manage data in Python, you can apply the same approach across different database platforms.\n",
    "\n",
    "## Next Steps: Exploring Databases with Python\n",
    "After learning how to connect Python to PostgreSQL and run queries, you can explore:  \n",
    "\n",
    "- **Advanced SQL**: joins, window functions, subqueries, CTEs  \n",
    "- **Database management**: creating/updating tables, indexes, transactions  \n",
    "- **Python integration**: automate queries, build ETL pipelines, visualize results  \n",
    "- **Other databases**: SQLite, MySQL/MariaDB, SQL Server, Oracle  \n",
    "- **Scaling up**: cloud-hosted databases, connection pooling, performance tuning  \n",
    "- **Applications**: power ML workflows, LLM-based apps (RAG), dashboards, or APIs  "
   ]
  },
  {
   "cell_type": "markdown",
   "id": "fef87e9a",
   "metadata": {},
   "source": []
  }
 ],
 "metadata": {
  "kernelspec": {
   "display_name": "Python 3",
   "language": "python",
   "name": "python3"
  },
  "language_info": {
   "codemirror_mode": {
    "name": "ipython",
    "version": 3
   },
   "file_extension": ".py",
   "mimetype": "text/x-python",
   "name": "python",
   "nbconvert_exporter": "python",
   "pygments_lexer": "ipython3",
   "version": "3.11.7"
  }
 },
 "nbformat": 4,
 "nbformat_minor": 5
}
