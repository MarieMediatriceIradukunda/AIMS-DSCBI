{
 "cells": [
  {
   "cell_type": "markdown",
   "metadata": {
    "id": "WioWyjbZy1Y8"
   },
   "source": [
    "# Introduction to Using APIs\n",
    "\n",
    "In this notebook, we will go through a practical example of how to use Python to access an API.\n",
    "For quick demonstration of the concepts, we will use the [Open Notify API](http://open-notify.org), [openWeather](https://openweathermap.org) and [WBG] (http://datatopics.worldbank.org/world-development-indicators/themes/people.html) APIs."
   ]
  },
  {
   "cell_type": "markdown",
   "metadata": {
    "id": "rnDTWGbVy1ZA"
   },
   "source": [
    "# Python Setup\n",
    "Lets make sure we import the required libraries"
   ]
  },
  {
   "cell_type": "code",
   "execution_count": 1,
   "metadata": {
    "executionInfo": {
     "elapsed": 1308,
     "status": "ok",
     "timestamp": 1676355712059,
     "user": {
      "displayName": "Michael Nana Kameni",
      "userId": "10368762142761029516"
     },
     "user_tz": -60
    },
    "id": "90gISwGey1ZA"
   },
   "outputs": [],
   "source": [
    "import requests\n",
    "from matplotlib.pyplot import figure\n",
    "import matplotlib.pyplot as plt\n",
    "import pandas as pd\n",
    "import json\n",
    "from IPython.display import Image"
   ]
  },
  {
   "cell_type": "markdown",
   "metadata": {
    "id": "P1OgIEvYy1ZC"
   },
   "source": [
    "# Accessing a Useless API Just to Learn\n",
    "The [Open Notify API](http://open-notify.org) is an open source project to provide a simple programming interface for some of NASA’s data related\n",
    "space and spacecrafts. Even though this is a toy example, the process of using APIs is similar for any \n",
    "API you will need to access in the future. For this tutorial, the task is to find the latest position of the Internation Space Station(ISS)"
   ]
  },
  {
   "cell_type": "markdown",
   "metadata": {
    "id": "jtGizhjMy1ZE"
   },
   "source": [
    "## Understanding The API\n",
    "As mentioned during the introductory lecture, its important to read the API documentation \n",
    "and understand the available **endpoints**. Also, to determine the exact endpoint for the data we are interested in getting.\n",
    "- **Base URL:** For this API, the base url is: ```http://api.open-notify.org```. So, our full url which we will pass to requests will be ```base-url + endpoint```\n",
    "- **Available Endpoints/Data:** You can check [here](http://open-notify.org/Open-Notify-API/) for avaible endpoints\n",
    "- **Target Endpoint:** For our task, the endpoint is ```iss-now.json```"
   ]
  },
  {
   "cell_type": "markdown",
   "metadata": {
    "id": "TIhr_FqXy1ZE"
   },
   "source": [
    "## Making the Request\n",
    "Now, lets request for the data. We create a simple function which makes the requests \n",
    "and prints the status code to see if we got a good result."
   ]
  },
  {
   "cell_type": "code",
   "execution_count": 2,
   "metadata": {
    "executionInfo": {
     "elapsed": 2,
     "status": "ok",
     "timestamp": 1676355720957,
     "user": {
      "displayName": "Michael Nana Kameni",
      "userId": "10368762142761029516"
     },
     "user_tz": -60
    },
    "id": "2W26MBZDy1ZF"
   },
   "outputs": [],
   "source": [
    "base_url = 'http://api.open-notify.org/'"
   ]
  },
  {
   "cell_type": "code",
   "execution_count": 3,
   "metadata": {
    "executionInfo": {
     "elapsed": 4,
     "status": "ok",
     "timestamp": 1676355724874,
     "user": {
      "displayName": "Michael Nana Kameni",
      "userId": "10368762142761029516"
     },
     "user_tz": -60
    },
    "id": "JIdqHoHty1ZF"
   },
   "outputs": [],
   "source": [
    "# endpoint for current position of ISS\n",
    "pos_now = 'iss-now.json'"
   ]
  },
  {
   "cell_type": "code",
   "execution_count": null,
   "metadata": {
    "colab": {
     "base_uri": "https://localhost:8080/",
     "height": 35
    },
    "executionInfo": {
     "elapsed": 454,
     "status": "ok",
     "timestamp": 1676355734562,
     "user": {
      "displayName": "Michael Nana Kameni",
      "userId": "10368762142761029516"
     },
     "user_tz": -60
    },
    "id": "-av0o7kVy1ZG",
    "outputId": "b028759b-c0ae-4f79-e6a3-07e3813f5e88"
   },
   "outputs": [
    {
     "data": {
      "text/plain": [
       "'http://api.open-notify.org/iss-now.json'"
      ]
     },
     "execution_count": 4,
     "metadata": {},
     "output_type": "execute_result"
    }
   ],
   "source": [
    "# base_url + pos_now = Full url\n",
    "full_url = base_url + pos_now\n",
    "full_url"
   ]
  },
  {
   "cell_type": "code",
   "execution_count": 5,
   "metadata": {
    "executionInfo": {
     "elapsed": 545,
     "status": "ok",
     "timestamp": 1676355741426,
     "user": {
      "displayName": "Michael Nana Kameni",
      "userId": "10368762142761029516"
     },
     "user_tz": -60
    },
    "id": "UGG5bl2ry1ZH"
   },
   "outputs": [],
   "source": [
    "# Make a request using requests package\n",
    "response = requests.get(full_url)"
   ]
  },
  {
   "cell_type": "code",
   "execution_count": 6,
   "metadata": {
    "colab": {
     "base_uri": "https://localhost:8080/"
    },
    "executionInfo": {
     "elapsed": 3,
     "status": "ok",
     "timestamp": 1676355744242,
     "user": {
      "displayName": "Michael Nana Kameni",
      "userId": "10368762142761029516"
     },
     "user_tz": -60
    },
    "id": "FiUgfAgey1ZI",
    "outputId": "6a681363-ad39-4532-b54d-a508682efcf1"
   },
   "outputs": [
    {
     "data": {
      "text/plain": [
       "200"
      ]
     },
     "execution_count": 6,
     "metadata": {},
     "output_type": "execute_result"
    }
   ],
   "source": [
    "response.status_code"
   ]
  },
  {
   "cell_type": "markdown",
   "metadata": {
    "id": "F3N7CM4Py1ZI"
   },
   "source": [
    "## Use json() to retrieve the json object/data"
   ]
  },
  {
   "cell_type": "code",
   "execution_count": 7,
   "metadata": {
    "colab": {
     "base_uri": "https://localhost:8080/"
    },
    "executionInfo": {
     "elapsed": 554,
     "status": "ok",
     "timestamp": 1676355751619,
     "user": {
      "displayName": "Michael Nana Kameni",
      "userId": "10368762142761029516"
     },
     "user_tz": -60
    },
    "id": "4iW9ywixy1ZJ",
    "outputId": "88bbbba3-6dd1-4e71-f481-c1e8037d2937"
   },
   "outputs": [
    {
     "name": "stdout",
     "output_type": "stream",
     "text": [
      "{'timestamp': 1758102701, 'iss_position': {'latitude': '11.9631', 'longitude': '-124.2104'}, 'message': 'success'}\n"
     ]
    },
    {
     "data": {
      "text/plain": [
       "(None, dict)"
      ]
     },
     "execution_count": 7,
     "metadata": {},
     "output_type": "execute_result"
    }
   ],
   "source": [
    "# Get the data\n",
    "dict_obj_from_json = response.json()\n",
    "type(dict_obj_from_json)\n",
    "print(dict_obj_from_json),type(dict_obj_from_json)"
   ]
  },
  {
   "cell_type": "code",
   "execution_count": 8,
   "metadata": {
    "colab": {
     "base_uri": "https://localhost:8080/"
    },
    "executionInfo": {
     "elapsed": 472,
     "status": "ok",
     "timestamp": 1676355792404,
     "user": {
      "displayName": "Michael Nana Kameni",
      "userId": "10368762142761029516"
     },
     "user_tz": -60
    },
    "id": "If79Qft-y1ZJ",
    "outputId": "da8e8f38-baf9-483e-b8fd-a98d33768179"
   },
   "outputs": [
    {
     "data": {
      "text/plain": [
       "{'latitude': '11.9631', 'longitude': '-124.2104'}"
      ]
     },
     "execution_count": 8,
     "metadata": {},
     "output_type": "execute_result"
    }
   ],
   "source": [
    "geo_info = dict_obj_from_json['iss_position']\n",
    "geo_info"
   ]
  },
  {
   "cell_type": "code",
   "execution_count": 9,
   "metadata": {
    "colab": {
     "base_uri": "https://localhost:8080/"
    },
    "executionInfo": {
     "elapsed": 304,
     "status": "ok",
     "timestamp": 1676355802552,
     "user": {
      "displayName": "Michael Nana Kameni",
      "userId": "10368762142761029516"
     },
     "user_tz": -60
    },
    "id": "wDUomxYWy1ZK",
    "outputId": "13398c09-ace8-4c24-ab4a-b421a7aa7633"
   },
   "outputs": [
    {
     "name": "stdout",
     "output_type": "stream",
     "text": [
      "-124.2104\n",
      "11.9631\n"
     ]
    }
   ],
   "source": [
    "lon = geo_info['longitude']\n",
    "print(lon)\n",
    "lat = geo_info['latitude']\n",
    "print(lat)"
   ]
  },
  {
   "cell_type": "code",
   "execution_count": 10,
   "metadata": {
    "colab": {
     "base_uri": "https://localhost:8080/"
    },
    "executionInfo": {
     "elapsed": 452,
     "status": "ok",
     "timestamp": 1676355809727,
     "user": {
      "displayName": "Michael Nana Kameni",
      "userId": "10368762142761029516"
     },
     "user_tz": -60
    },
    "id": "IRGRizV5y1ZK",
    "outputId": "c06f3727-2c96-4b22-9c6f-e59ddc452ccf"
   },
   "outputs": [
    {
     "name": "stdout",
     "output_type": "stream",
     "text": [
      "11.9631 -- -124.2104\n"
     ]
    }
   ],
   "source": [
    "geo_info = dict_obj_from_json['iss_position']\n",
    "lon = geo_info['longitude']\n",
    "lat = geo_info['latitude']\n",
    "print(lat,'--', lon)"
   ]
  },
  {
   "cell_type": "code",
   "execution_count": 11,
   "metadata": {
    "colab": {
     "base_uri": "https://localhost:8080/"
    },
    "executionInfo": {
     "elapsed": 324,
     "status": "ok",
     "timestamp": 1676355852267,
     "user": {
      "displayName": "Michael Nana Kameni",
      "userId": "10368762142761029516"
     },
     "user_tz": -60
    },
    "id": "AUiikw8ay1ZL",
    "outputId": "e97cd0fe-db3b-44b7-ab5e-f3b7450d8cd3"
   },
   "outputs": [
    {
     "name": "stdout",
     "output_type": "stream",
     "text": [
      "7.6917 -- -121.0499\n"
     ]
    }
   ],
   "source": [
    "base_url = 'http://api.open-notify.org/'\n",
    "#endpoint for current position of ISS\n",
    "pos_now = 'iss-now.json'\n",
    "# Full url\n",
    "full_url = base_url + pos_now\n",
    "\n",
    "\n",
    "# Make a request using requests package\n",
    "r = requests.get(full_url)\n",
    "\n",
    "# Get the data\n",
    "dict_obj_from_json = r.json()\n",
    "\n",
    "# Extract Lat/Lon\n",
    "geo_info = dict_obj_from_json['iss_position']\n",
    "lon = geo_info['longitude']\n",
    "lat = geo_info['latitude']\n",
    "print(lat,'--', lon)"
   ]
  },
  {
   "cell_type": "code",
   "execution_count": 12,
   "metadata": {
    "code_folding": [
     0
    ],
    "executionInfo": {
     "elapsed": 397,
     "status": "ok",
     "timestamp": 1676355873977,
     "user": {
      "displayName": "Michael Nana Kameni",
      "userId": "10368762142761029516"
     },
     "user_tz": -60
    },
    "id": "7tld9iMgy1ZM"
   },
   "outputs": [],
   "source": [
    "def request_iss_position(endpoint_url=None):\n",
    "    # Make a get request \n",
    "    response = requests.get(endpoint_url)\n",
    "\n",
    "    # Print the status code of the response.\n",
    "    status_code = response.status_code\n",
    "    if status_code == 200:\n",
    "        print('Hooray!!, it worked')\n",
    "        \n",
    "        # access the returned data\n",
    "        dict_obj_from_json = response.json()\n",
    "        print('Type: {}'.format(type(dict_obj_from_json)))\n",
    "        print('This is the nested dictionary returned: \\n {}'.format(dict_obj_from_json))\n",
    "        lat = dict_obj_from_json['iss_position']['latitude']\n",
    "        lon = dict_obj_from_json['iss_position']['longitude']\n",
    "        print('ISS is passing on Lat: {}, and Lon: {} right about now'.format(lat, lon))\n",
    "    else:\n",
    "        print('What happened, lets see the code we got: {}'.format(status_code))"
   ]
  },
  {
   "cell_type": "code",
   "execution_count": null,
   "metadata": {
    "colab": {
     "base_uri": "https://localhost:8080/"
    },
    "executionInfo": {
     "elapsed": 516,
     "status": "ok",
     "timestamp": 1675397180435,
     "user": {
      "displayName": "Michael Nana Kameni",
      "userId": "10368762142761029516"
     },
     "user_tz": 480
    },
    "id": "5kTLElRIy1ZM",
    "outputId": "009d6af7-a92f-4b24-b2d7-4fe6e117a8c4"
   },
   "outputs": [
    {
     "name": "stdout",
     "output_type": "stream",
     "text": [
      "Hooray!!, it worked\n",
      "Type: <class 'dict'>\n",
      "This is the nested dictionary returned: \n",
      " {'iss_position': {'latitude': '-35.7143', 'longitude': '-67.6236'}, 'message': 'success', 'timestamp': 1675397176}\n",
      "ISS is passing on Lat: -35.7143, and Lon: -67.6236 right about now\n"
     ]
    }
   ],
   "source": [
    "base_url = 'http://api.open-notify.org/'\n",
    "iss_pos = base_url + 'iss-now.json'\n",
    "request_iss_position(endpoint_url=iss_pos)"
   ]
  },
  {
   "cell_type": "code",
   "execution_count": null,
   "metadata": {
    "colab": {
     "base_uri": "https://localhost:8080/"
    },
    "executionInfo": {
     "elapsed": 3,
     "status": "ok",
     "timestamp": 1675397182738,
     "user": {
      "displayName": "Michael Nana Kameni",
      "userId": "10368762142761029516"
     },
     "user_tz": 480
    },
    "id": "eUTXnt5my1ZM",
    "outputId": "bc23a02c-783c-4d34-c2b5-7c8e27661ee5"
   },
   "outputs": [
    {
     "name": "stdout",
     "output_type": "stream",
     "text": [
      "What happened, lets see the code we got: 404\n"
     ]
    }
   ],
   "source": [
    "# Now, try to enter a wrong endpoint and see what happens\n",
    "iss_pos2 = base_url + 'iss-today.json'\n",
    "request_iss_position(endpoint_url=iss_pos2)"
   ]
  },
  {
   "cell_type": "markdown",
   "metadata": {
    "id": "gOZbdoOyy1ZN"
   },
   "source": [
    "# Accessing the Data\n",
    "Now, lets change our function so that we print the Latitude and Longitude of where ISS is right now."
   ]
  },
  {
   "cell_type": "code",
   "execution_count": 13,
   "metadata": {
    "colab": {
     "base_uri": "https://localhost:8080/"
    },
    "executionInfo": {
     "elapsed": 1208,
     "status": "ok",
     "timestamp": 1676355892406,
     "user": {
      "displayName": "Michael Nana Kameni",
      "userId": "10368762142761029516"
     },
     "user_tz": -60
    },
    "id": "XnVOmqLey1ZN",
    "outputId": "9ddc5b09-a010-470b-eab8-a47e7902959f"
   },
   "outputs": [
    {
     "name": "stdout",
     "output_type": "stream",
     "text": [
      "Hooray!!, it worked\n",
      "Type: <class 'dict'>\n",
      "This is the nested dictionary returned: \n",
      " {'timestamp': 1758104797, 'iss_position': {'latitude': '-42.7945', 'longitude': '9.4004'}, 'message': 'success'}\n",
      "ISS is passing on Lat: -42.7945, and Lon: 9.4004 right about now\n"
     ]
    },
    {
     "data": {
      "text/plain": [
       "<function __main__.request_iss_position(endpoint_url=None)>"
      ]
     },
     "execution_count": 13,
     "metadata": {},
     "output_type": "execute_result"
    }
   ],
   "source": [
    "request_iss_position(endpoint_url='http://api.open-notify.org/iss-now.json')\n",
    "request_iss_position"
   ]
  },
  {
   "cell_type": "markdown",
   "metadata": {
    "id": "O2Y7O61ky1ZN"
   },
   "source": [
    "# EXERCISE-1:\n",
    "Using the same API, check how many Astronouts are in space right now?"
   ]
  },
  {
   "cell_type": "code",
   "execution_count": 14,
   "metadata": {
    "code_folding": [
     0
    ],
    "colab": {
     "base_uri": "https://localhost:8080/",
     "height": 235
    },
    "executionInfo": {
     "elapsed": 486,
     "status": "error",
     "timestamp": 1675397797196,
     "user": {
      "displayName": "Michael Nana Kameni",
      "userId": "10368762142761029516"
     },
     "user_tz": 480
    },
    "id": "I5IDdQP3y1ZO",
    "outputId": "998a323a-a991-4848-d868-1714b950e26a"
   },
   "outputs": [
    {
     "ename": "JSONDecodeError",
     "evalue": "Expecting value: line 1 column 1 (char 0)",
     "output_type": "error",
     "traceback": [
      "\u001b[31m---------------------------------------------------------------------------\u001b[39m",
      "\u001b[31mJSONDecodeError\u001b[39m                           Traceback (most recent call last)",
      "\u001b[36mFile \u001b[39m\u001b[32m~/Desktop/airflow_environment/venv/lib/python3.11/site-packages/requests/models.py:960\u001b[39m, in \u001b[36mResponse.json\u001b[39m\u001b[34m(self, **kwargs)\u001b[39m\n\u001b[32m    959\u001b[39m \u001b[38;5;28;01mtry\u001b[39;00m:\n\u001b[32m--> \u001b[39m\u001b[32m960\u001b[39m     \u001b[38;5;28;01mreturn\u001b[39;00m \u001b[43mcomplexjson\u001b[49m\u001b[43m.\u001b[49m\u001b[43mloads\u001b[49m\u001b[43m(\u001b[49m\u001b[38;5;28;43mself\u001b[39;49m\u001b[43m.\u001b[49m\u001b[43mcontent\u001b[49m\u001b[43m.\u001b[49m\u001b[43mdecode\u001b[49m\u001b[43m(\u001b[49m\u001b[43mencoding\u001b[49m\u001b[43m)\u001b[49m\u001b[43m,\u001b[49m\u001b[43m \u001b[49m\u001b[43m*\u001b[49m\u001b[43m*\u001b[49m\u001b[43mkwargs\u001b[49m\u001b[43m)\u001b[49m\n\u001b[32m    961\u001b[39m \u001b[38;5;28;01mexcept\u001b[39;00m \u001b[38;5;167;01mUnicodeDecodeError\u001b[39;00m:\n\u001b[32m    962\u001b[39m     \u001b[38;5;66;03m# Wrong UTF codec detected; usually because it's not UTF-8\u001b[39;00m\n\u001b[32m    963\u001b[39m     \u001b[38;5;66;03m# but some other 8-bit codec.  This is an RFC violation,\u001b[39;00m\n\u001b[32m    964\u001b[39m     \u001b[38;5;66;03m# and the server didn't bother to tell us what codec *was*\u001b[39;00m\n\u001b[32m    965\u001b[39m     \u001b[38;5;66;03m# used.\u001b[39;00m\n",
      "\u001b[36mFile \u001b[39m\u001b[32m~/Desktop/airflow_environment/venv/lib/python3.11/json/__init__.py:436\u001b[39m, in \u001b[36mloads\u001b[39m\u001b[34m(s, cls, object_hook, parse_float, parse_int, parse_constant, object_pairs_hook, **kw)\u001b[39m\n\u001b[32m    427\u001b[39m \u001b[38;5;28;01mif\u001b[39;00m (\n\u001b[32m    428\u001b[39m     \u001b[38;5;28mcls\u001b[39m \u001b[38;5;129;01mis\u001b[39;00m \u001b[38;5;28;01mNone\u001b[39;00m\n\u001b[32m    429\u001b[39m     \u001b[38;5;129;01mand\u001b[39;00m object_hook \u001b[38;5;129;01mis\u001b[39;00m \u001b[38;5;28;01mNone\u001b[39;00m\n\u001b[32m   (...)\u001b[39m\u001b[32m    434\u001b[39m     \u001b[38;5;129;01mand\u001b[39;00m \u001b[38;5;129;01mnot\u001b[39;00m kw\n\u001b[32m    435\u001b[39m ):\n\u001b[32m--> \u001b[39m\u001b[32m436\u001b[39m     \u001b[38;5;28;01mreturn\u001b[39;00m \u001b[43m_default_decoder\u001b[49m\u001b[43m.\u001b[49m\u001b[43mdecode\u001b[49m\u001b[43m(\u001b[49m\u001b[43ms\u001b[49m\u001b[43m)\u001b[49m\n\u001b[32m    437\u001b[39m \u001b[38;5;28;01mif\u001b[39;00m \u001b[38;5;28mcls\u001b[39m \u001b[38;5;129;01mis\u001b[39;00m \u001b[38;5;28;01mNone\u001b[39;00m:\n",
      "\u001b[36mFile \u001b[39m\u001b[32m~/Desktop/airflow_environment/venv/lib/python3.11/json/decoder.py:363\u001b[39m, in \u001b[36mJSONDecoder.decode\u001b[39m\u001b[34m(self, s, _w)\u001b[39m\n\u001b[32m    359\u001b[39m \u001b[38;5;250m\u001b[39m\u001b[33;03m\"\"\"Return the Python representation of ``s`` (a ``str`` instance\u001b[39;00m\n\u001b[32m    360\u001b[39m \u001b[33;03mcontaining a JSON document).\u001b[39;00m\n\u001b[32m    361\u001b[39m \n\u001b[32m    362\u001b[39m \u001b[33;03m\"\"\"\u001b[39;00m\n\u001b[32m--> \u001b[39m\u001b[32m363\u001b[39m obj, end = \u001b[38;5;28;43mself\u001b[39;49m\u001b[43m.\u001b[49m\u001b[43mraw_decode\u001b[49m\u001b[43m(\u001b[49m\u001b[43ms\u001b[49m\u001b[43m,\u001b[49m\u001b[43m \u001b[49m\u001b[43midx\u001b[49m\u001b[43m=\u001b[49m\u001b[43m_w\u001b[49m\u001b[43m(\u001b[49m\u001b[43ms\u001b[49m\u001b[43m,\u001b[49m\u001b[43m \u001b[49m\u001b[32;43m0\u001b[39;49m\u001b[43m)\u001b[49m\u001b[43m.\u001b[49m\u001b[43mend\u001b[49m\u001b[43m(\u001b[49m\u001b[43m)\u001b[49m\u001b[43m)\u001b[49m\n\u001b[32m    364\u001b[39m end = _w(s, end).end()\n",
      "\u001b[36mFile \u001b[39m\u001b[32m~/Desktop/airflow_environment/venv/lib/python3.11/json/decoder.py:381\u001b[39m, in \u001b[36mJSONDecoder.raw_decode\u001b[39m\u001b[34m(self, s, idx)\u001b[39m\n\u001b[32m    380\u001b[39m \u001b[38;5;28;01mexcept\u001b[39;00m \u001b[38;5;167;01mStopIteration\u001b[39;00m \u001b[38;5;28;01mas\u001b[39;00m err:\n\u001b[32m--> \u001b[39m\u001b[32m381\u001b[39m     \u001b[38;5;28;01mraise\u001b[39;00m JSONDecodeError(\u001b[33m\"\u001b[39m\u001b[33mExpecting value\u001b[39m\u001b[33m\"\u001b[39m, s, err.value) \u001b[38;5;28;01mfrom\u001b[39;00m\u001b[38;5;250m \u001b[39m\u001b[38;5;28;01mNone\u001b[39;00m\n\u001b[32m    382\u001b[39m \u001b[38;5;28;01mreturn\u001b[39;00m obj, end\n",
      "\u001b[31mJSONDecodeError\u001b[39m: Expecting value: line 1 column 1 (char 0)",
      "\nDuring handling of the above exception, another exception occurred:\n",
      "\u001b[31mJSONDecodeError\u001b[39m                           Traceback (most recent call last)",
      "\u001b[36mCell\u001b[39m\u001b[36m \u001b[39m\u001b[32mIn[14]\u001b[39m\u001b[32m, line 14\u001b[39m\n\u001b[32m     11\u001b[39m \u001b[38;5;66;03m# Get data if response is 200\u001b[39;00m\n\u001b[32m     12\u001b[39m \u001b[38;5;28;01mif\u001b[39;00m response.status_code == \u001b[32m200\u001b[39m:\n\u001b[32m     13\u001b[39m     \u001b[38;5;66;03m# Extract the dict object from the JSON response\u001b[39;00m\n\u001b[32m---> \u001b[39m\u001b[32m14\u001b[39m     res = \u001b[43mresponse\u001b[49m\u001b[43m.\u001b[49m\u001b[43mjson\u001b[49m\u001b[43m(\u001b[49m\u001b[43m)\u001b[49m.loads(response)\n\u001b[32m     16\u001b[39m     \u001b[38;5;66;03m# please print the dict object above so you can inspect it and see how to retrieve the required data\u001b[39;00m\n\u001b[32m     17\u001b[39m     \u001b[38;5;28mprint\u001b[39m(res)\n",
      "\u001b[36mFile \u001b[39m\u001b[32m~/Desktop/airflow_environment/venv/lib/python3.11/site-packages/requests/models.py:968\u001b[39m, in \u001b[36mResponse.json\u001b[39m\u001b[34m(self, **kwargs)\u001b[39m\n\u001b[32m    966\u001b[39m             \u001b[38;5;28;01mpass\u001b[39;00m\n\u001b[32m    967\u001b[39m         \u001b[38;5;28;01mexcept\u001b[39;00m JSONDecodeError \u001b[38;5;28;01mas\u001b[39;00m e:\n\u001b[32m--> \u001b[39m\u001b[32m968\u001b[39m             \u001b[38;5;28;01mraise\u001b[39;00m RequestsJSONDecodeError(e.msg, e.doc, e.pos)\n\u001b[32m    970\u001b[39m \u001b[38;5;28;01mtry\u001b[39;00m:\n\u001b[32m    971\u001b[39m     \u001b[38;5;28;01mreturn\u001b[39;00m complexjson.loads(\u001b[38;5;28mself\u001b[39m.text, **kwargs)\n",
      "\u001b[31mJSONDecodeError\u001b[39m: Expecting value: line 1 column 1 (char 0)"
     ]
    }
   ],
   "source": [
    "# base-url is same as above\n",
    "# end point for this data: please check documentation\n",
    "num_astros = 'http://api.open-notify.org/astros.json'\n",
    "\n",
    "# full_url number of astronouts\n",
    "num_astros_url =\"http://api.open-notify.org/astros.json?callback=CALLBACK\" \n",
    " \n",
    "# Make request\n",
    "response = requests.get(num_astros_url)\n",
    "\n",
    "# Get data if response is 200\n",
    "if response.status_code == 200:\n",
    "    # Extract the dict object from the JSON response\n",
    "    res = response.json().loads(response)\n",
    "    \n",
    "    # please print the dict object above so you can inspect it and see how to retrieve the required data\n",
    "    print(res)\n",
    "    \n",
    "    # Get the number of people in spacw\n",
    "    #YOUR CODE\n",
    "    \n",
    "    # print number of people\n",
    "    #YOUR CODE"
   ]
  },
  {
   "cell_type": "markdown",
   "metadata": {
    "id": "WArb3fRky1ZO"
   },
   "source": [
    "# Accessing the Open Weather API\n",
    "## About the API\n",
    "You can read all about it [here](https://openweathermap.org). In summary, they provide weather data for cities across  the world. When you read the API documentation there are several things you need to be aware of and check as follows:\n",
    "1. How to get credentials to enable access to the API. We only need an API key in this case. Did you get yours?\n",
    "2. How to make API calls. What type of parameters are required to make and API call to this particular API. In this case, you will note that you will need location.\n",
    "3. What type of information is available\n",
    "4. Whats the cost of accessing the data. If free, are there any limits.\n",
    "\n",
    "## Potential Use Cases\n",
    "1. **A Weather app on a Smartphone.** Extract data from the API and use it on your app\n",
    "\n",
    "2. **Historical climate data analysisis for multiple cities.** With climate change being a big thing now, you may want to do analysis comparing weather information across multiple cities.\n",
    "\n",
    "The API has many versions and subscriptions plans but in our exercise, we will use their 2.5 version which is the one which doesnt require subscription."
   ]
  },
  {
   "cell_type": "code",
   "execution_count": 16,
   "metadata": {},
   "outputs": [],
   "source": [
    "# Image(\"../docs/images/open-weather-api.png\")"
   ]
  },
  {
   "cell_type": "markdown",
   "metadata": {},
   "source": [
    "## Example Task: Get current weather data and forecasts for a given city or multiple cities\n",
    "Given a city name, lets get current weather data and forecasts and then save that information as a CSV file. \n",
    "We are only interested in the following variables:\n",
    "- **Weather:** temp, min and max temperature, humidity\n",
    "- **Other:** Date, with no time\n",
    "\n",
    "### Approach\n",
    "We will achieve this by defining three main functions:\n",
    "1. A small helper function to retrieve city ID from given city name just because using ID is easier than name\n",
    "2. A function to make thr API call and retrieve the weather data\n",
    "3. A function to take the returned data, put it into a pandas dataframe.\n",
    "4. A function putting everything together "
   ]
  },
  {
   "cell_type": "markdown",
   "metadata": {},
   "source": [
    "# String concatenation in Python"
   ]
  },
  {
   "cell_type": "code",
   "execution_count": 17,
   "metadata": {},
   "outputs": [
    {
     "name": "stdout",
     "output_type": "stream",
     "text": [
      "Marie Mediatrice Iradukunda\n"
     ]
    }
   ],
   "source": [
    "a = 'Marie Mediatrice'\n",
    "b = 'Iradukunda'\n",
    "\n",
    "full_name = \"{} {}\".format(a,b)\n",
    "\n",
    "print(full_name)"
   ]
  },
  {
   "cell_type": "code",
   "execution_count": 18,
   "metadata": {
    "code_folding": [
     0
    ],
    "id": "OCai_fwxy1ZO"
   },
   "outputs": [],
   "source": [
    "def get_weather(base_url, category='forecast', api_key=None, city_id=None, lat=None, lon=None):\n",
    "    \"\"\"\n",
    "    Use request to make a get request to the open weather API\n",
    "    :param api_key: This is taken from the API documentation\n",
    "    :param category: Wether to get current weather, forecast or other type. Check API docs for details.\n",
    "    :param city_id: ID for the city we need taken from the city.list.json provided by the API\n",
    "    :param api_key: The API key you got from the API \n",
    "    :param lon: Longitude in case we want to use latitude and longitude\n",
    "    :param lat: Latitude in case we want to use latitude and longitude\n",
    "    \n",
    "    :return: A JSON oobject with the data\n",
    "    \"\"\"\n",
    "    # Create full_url based on whether we are using lat/lon, city ID\n",
    "    if city_id:\n",
    "        full_url = \"{}{}?id={}&APPID={}\".format(base_url, category, city_id, api_key)\n",
    "    \n",
    "    # use requests to retrieve data from the API\n",
    "    response = requests.get(full_url)\n",
    "\n",
    "    # retrieve JSON from the response object\n",
    "    if response.status_code == 200:\n",
    "        json_obj = response.json()\n",
    "    else:\n",
    "        print('Something went wrong, see error below')\n",
    "        print(response.status_code)\n",
    "\n",
    "    # return the JSON object\n",
    "    return json_obj"
   ]
  },
  {
   "cell_type": "code",
   "execution_count": 19,
   "metadata": {},
   "outputs": [],
   "source": [
    "def city_id_from_name(city_file, name):\n",
    "    \"\"\"\n",
    "    Retrieve city ID given city name\n",
    "    :param city_file: JSON file with list of city names and corresponding IDs provided by open weather API\n",
    "    :param name: Name of city which we want to retrieve ID for\n",
    "    :return: An integer representing city ID\n",
    "    \"\"\"\n",
    "    # Load JSON file\n",
    "    fopen = open(city_file, encoding=\"utf8\")\n",
    "    city_list = json.load(fopen)\n",
    "    \n",
    "    # Get city ID which matches with city name\n",
    "    for c in city_list:\n",
    "        if c['name'] == name:\n",
    "            return c['id'] "
   ]
  },
  {
   "cell_type": "code",
   "execution_count": 20,
   "metadata": {},
   "outputs": [],
   "source": [
    "def weather_json_to_pandas_df(weather_json):\n",
    "    \"\"\"\n",
    "    Converts the JSON with weather data into a pandas Dataframe\n",
    "    :param weather_json:The JSON object with weather information\n",
    "    :return: A pandas Dataframe\n",
    "    \"\"\"\n",
    "    \n",
    "    # using method for accessing a dictionary\n",
    "    # put weather items in a list\n",
    "    weather_items = weather_json['list']\n",
    "    \n",
    "    # save into a dataframe\n",
    "    data = []  # will hold our data\n",
    "    \n",
    "    for i in weather_items:\n",
    "        # get forecast time and truncate to date only\n",
    "        date_str = i['dt_txt'][:10]\n",
    "    \n",
    "        # get temperature, rain and humidity\n",
    "        temp = i['main']['temp']\n",
    "        temp_min = i['main']['temp_min']\n",
    "        temp_max = i['main']['temp_max']\n",
    "        hum = i['main']['humidity']\n",
    "    \n",
    "        data_item = {'Date': date_str, 'tempF': temp,'tempF_min': temp_min, \n",
    "                     'tempF_max': temp_min, 'humidity': hum}\n",
    "    \n",
    "        # append to list of create earlier on\n",
    "        data.append(data_item)\n",
    "    \n",
    "\n",
    "    # create dataframe\n",
    "    df = pd.DataFrame(data)\n",
    "    \n",
    "    return df"
   ]
  },
  {
   "cell_type": "code",
   "execution_count": 24,
   "metadata": {},
   "outputs": [],
   "source": [
    "from json import load\n",
    "import os\n",
    "from dotenv import load_dotenv\n",
    "\n",
    "load_dotenv()\n",
    "OPENWEATHER_API_KEY = os.getenv(\"OPENWEATHER_API_KEY\")"
   ]
  },
  {
   "cell_type": "code",
   "execution_count": 111,
   "metadata": {},
   "outputs": [],
   "source": [
    "def save_weather_data(city_name, csv_filename, city_list_file):\n",
    "    \"\"\"\n",
    "    Puts everything together and saves weather into CSV file\n",
    "    :param city_name: Target city name\n",
    "    :param csv_filename: Full path of CSV filen to save data\n",
    "    :param city_list_file: File containing city names and IDs\n",
    "    :return: Saves data into CSV\n",
    "    \"\"\"\n",
    "    # ==============================\n",
    "    # GET WEATHER DATA\n",
    "    # ==============================\n",
    "    # Retrieve city ID and get data\n",
    "    cityid = city_id_from_name(city_list_file, city_name)\n",
    "    print('City-ID for {} is {}'.format(city_name, cityid))\n",
    "    \n",
    "    weather_data = get_weather(base_url=BASE_URL, api_key=API_KEY,\n",
    "                           city_id=cityid)\n",
    "    \n",
    "    # Put data into Pandas Dataframe\n",
    "    df = weather_json_to_pandas_df(weather_json=weather_data)\n",
    "    \n",
    "    # Add city name \n",
    "    df['City'] = city_name\n",
    "    print()\n",
    "    print('First few rows of the data')\n",
    "    print(df.head())\n",
    "    \n",
    "    # Save data into CSV\n",
    "    df.to_csv(city_name, index=False)\n",
    "    \n",
    "    print()\n",
    "    print('Successfully Saved CSV file')\n",
    "    print(\"============================\")\n",
    "    \n",
    "    return df"
   ]
  },
  {
   "cell_type": "code",
   "execution_count": 109,
   "metadata": {},
   "outputs": [],
   "source": [
    "# ========================================================\n",
    "# HARD CODE BASE INFORMAITON AND USE THEM AS GLOBAL VARS\n",
    "# ========================================================\n",
    "# Harcode base URL, we use the 2.5 version which seems to be the free version with no need to subscribe\n",
    "BASE_URL = \"http://api.openweathermap.org/data/2.5/\"\n",
    "# Hardcode API key although its not recommended for security purposes\n",
    "API_KEY = 'cd689df7ce5a01db2aafde528e3d87c4'"
   ]
  },
  {
   "cell_type": "code",
   "execution_count": null,
   "metadata": {},
   "outputs": [],
   "source": [
    "city_file = \"/Users/dunstanmatekenya/Downloads/"
   ]
  },
  {
   "cell_type": "code",
   "execution_count": 149,
   "metadata": {},
   "outputs": [
    {
     "data": {
      "text/plain": [
       "927967"
      ]
     },
     "execution_count": 149,
     "metadata": {},
     "output_type": "execute_result"
    }
   ],
   "source": [
    "# Get ID\n",
    "kigali_id = city_id_from_name(city_file=\"../DATASETS/raw/city.list.json\",\n",
    "                            name=\"Kigali\")\n",
    "kigali_id"
   ]
  },
  {
   "cell_type": "code",
   "execution_count": null,
   "metadata": {},
   "outputs": [],
   "source": [
    "# Get weather data function\n",
    "json_object = get_weather(base_url=BASE_URL, category='forecast', \n",
    "                   api_key=API_KEY, city_id=kigali_id)\n",
    "json_object"
   ]
  },
  {
   "cell_type": "code",
   "execution_count": 164,
   "metadata": {},
   "outputs": [],
   "source": [
    "# Convert JSON to pandas Dataframe\n",
    "df = weather_json_to_pandas_df(json_object)"
   ]
  },
  {
   "cell_type": "code",
   "execution_count": null,
   "metadata": {},
   "outputs": [],
   "source": [
    "# put everything together\n",
    "save_weather_data(city_name='Lagos', \n",
    "                  csv_filename=\"../DATASETS/lagos.csv\",\n",
    "                  city_list_file=\"../DATASETS/raw/city.list.json\")"
   ]
  },
  {
   "cell_type": "code",
   "execution_count": 110,
   "metadata": {},
   "outputs": [
    {
     "name": "stdout",
     "output_type": "stream",
     "text": [
      "City-ID for Lilongwe is 927967\n",
      "http://api.openweathermap.org/data/2.5/forecast?id=927967&APPID=cd689df7ce5a01db2aafde528e3d87c4\n",
      "\n",
      "First few rows of the data\n",
      "         Date   tempF  tempF_min  tempF_max  humidity      City\n",
      "0  2024-01-10  296.22     296.14     296.14        82  Lilongwe\n",
      "1  2024-01-10  296.97     296.97     296.97        78  Lilongwe\n",
      "2  2024-01-10  293.56     293.56     293.56        94  Lilongwe\n",
      "3  2024-01-10  293.15     293.15     293.15        96  Lilongwe\n",
      "4  2024-01-11  292.70     292.70     292.70        95  Lilongwe\n",
      "\n",
      "Successfully Saved CSV file\n",
      "============================\n"
     ]
    }
   ],
   "source": [
    "# =======================================\n",
    "# GET WEATHER FORECAST DATA FOR LILONGWE\n",
    "# =======================================\n",
    "city = 'Lilongwe'\n",
    "city_json = \"../DATASETS/raw/city.list.json\"\n",
    "out_csv = \"../DATASETS/LL-weather.csv\"\n",
    "df_weather = save_weather_data(city_name=city, csv_filename=out_csv, city_list_file=city_json)"
   ]
  },
  {
   "cell_type": "markdown",
   "metadata": {
    "id": "eZknSpF3y1ZP"
   },
   "source": [
    "## EXERCISE-1: Instead of using city ID, lets use latitude and longitude to get the same information.\n",
    "\n",
    "### Task description:\n",
    "- Modify the ```get_weather()``` so that it takes in latitude and longitude and returns today's temperature in degress Celsius.\n",
    "- To test your function, get current weather data for 'lon': 30.1289, 'lat': -1.9695 and print out the **temperature, place name and country**. The result will look like screenshot below.\n",
    "\n",
    "### Tips:\n",
    "- Go to the API documentation to find out how to use lat and lon in the API call\n",
    "- Also, use the API documentation to check how to change the units "
   ]
  },
  {
   "cell_type": "markdown",
   "metadata": {},
   "source": [
    "# https://api.openweathermap.org/data/2.5/weather?lat={lat}&lon={lon}&appid={API key}"
   ]
  },
  {
   "cell_type": "code",
   "execution_count": 168,
   "metadata": {},
   "outputs": [
    {
     "name": "stdout",
     "output_type": "stream",
     "text": [
      "http://api.openweathermap.org/data/2.5/weather?&lat=30&lon=60&appid=cd689df7ce5a01db2aafde528e3d87c4\n"
     ]
    }
   ],
   "source": [
    "base_url = BASE_URL\n",
    "category = 'weather'\n",
    "lat = '30'\n",
    "lon = '60'\n",
    "\n",
    "full_url = \"{}{}?&lat={}&lon={}&appid={}\".format(base_url, \n",
    "                                                 category,lat, lon,API_KEY)\n",
    "print(full_url)"
   ]
  },
  {
   "cell_type": "code",
   "execution_count": 169,
   "metadata": {},
   "outputs": [],
   "source": [
    "response = requests.get(full_url)"
   ]
  },
  {
   "cell_type": "code",
   "execution_count": 170,
   "metadata": {},
   "outputs": [
    {
     "data": {
      "text/plain": [
       "{'coord': {'lon': 60, 'lat': 30},\n",
       " 'weather': [{'id': 801,\n",
       "   'main': 'Clouds',\n",
       "   'description': 'few clouds',\n",
       "   'icon': '02n'}],\n",
       " 'base': 'stations',\n",
       " 'main': {'temp': 287,\n",
       "  'feels_like': 284.75,\n",
       "  'temp_min': 287,\n",
       "  'temp_max': 287,\n",
       "  'pressure': 1015,\n",
       "  'humidity': 12,\n",
       "  'sea_level': 1015,\n",
       "  'grnd_level': 852},\n",
       " 'visibility': 10000,\n",
       " 'wind': {'speed': 1.77, 'deg': 173, 'gust': 1.81},\n",
       " 'clouds': {'all': 24},\n",
       " 'dt': 1704894490,\n",
       " 'sys': {'country': 'IR', 'sunrise': 1704855411, 'sunset': 1704892625},\n",
       " 'timezone': 12600,\n",
       " 'id': 1159301,\n",
       " 'name': 'Zahedan',\n",
       " 'cod': 200}"
      ]
     },
     "execution_count": 170,
     "metadata": {},
     "output_type": "execute_result"
    }
   ],
   "source": [
    "results = response.json()\n",
    "results"
   ]
  },
  {
   "cell_type": "code",
   "execution_count": 139,
   "metadata": {},
   "outputs": [
    {
     "data": {
      "image/png": "[encoded data removed]",
      "text/plain": [
       "<IPython.core.display.Image object>"
      ]
     },
     "execution_count": 139,
     "metadata": {},
     "output_type": "execute_result"
    }
   ],
   "source": [
    "Image(\"../docs/images/current-temp-exercise.png\")"
   ]
  },
  {
   "cell_type": "markdown",
   "metadata": {
    "id": "VI9VzkaYy1ZR"
   },
   "source": [
    "# Pulling Data World Bank Development Indicators API\n",
    "We're using Pandas Datareader: a third-party library that makes it easy to pull data from APIs into a Pandas dataframe.\n",
    "\n",
    "Use it to pull live data from Yahoo! Finance, World Bank and others.\n",
    "\n",
    "\n",
    "| Function | Task Performed |\n",
    "|----|---|\n",
    "| wb.get_countries()  | List available countries, with their country codes, income levels etc. |\n",
    "| wb.search()  | Query the available indicators using a search term. |\n",
    "| wb.WorldBankReader()  | A class for downloading data series. |"
   ]
  },
  {
   "cell_type": "markdown",
   "metadata": {
    "id": "BFZpLT2Ay1ZR"
   },
   "source": [
    "## Installing Pandas Datareader\n",
    "Use the terminal to install the package pandas_datareader like so: \n",
    "```pip3 install pandas_datareader```"
   ]
  },
  {
   "cell_type": "code",
   "execution_count": null,
   "metadata": {
    "id": "dVFiuN0ey1ZS"
   },
   "outputs": [],
   "source": [
    "# Lets import World Bank module (wb) from pandas_datareader\n",
    "from pandas_datareader import wb"
   ]
  },
  {
   "cell_type": "markdown",
   "metadata": {
    "id": "W_0VJ43by1ZS"
   },
   "source": [
    "## List of Indicators\n",
    "See [here](http://datatopics.worldbank.org/world-development-indicators/themes/people.html)"
   ]
  },
  {
   "cell_type": "code",
   "execution_count": null,
   "metadata": {
    "id": "KWWp4vXWy1ZT"
   },
   "outputs": [],
   "source": [
    "# Find the GNI per capita indicator, get its ID number\n",
    "indicator_name = \"GNI per capita, Atlas\"\n",
    "result = wb.search(string=indicator_name, field = 'name')\n",
    "result"
   ]
  },
  {
   "cell_type": "code",
   "execution_count": null,
   "metadata": {
    "id": "KvuE9wJky1ZT"
   },
   "outputs": [],
   "source": [
    "# Make a note of the indicator ID\n",
    "GNI_ID = 'NY.GNP.PCAP.CD'"
   ]
  },
  {
   "cell_type": "code",
   "execution_count": null,
   "metadata": {
    "id": "tIDkoVPfy1ZT"
   },
   "outputs": [],
   "source": [
    "# Get a list of countries and clean it up\n",
    "countries = wb.get_countries()\n",
    "countries.head()"
   ]
  },
  {
   "cell_type": "code",
   "execution_count": null,
   "metadata": {
    "id": "ck9hGqMOy1ZU"
   },
   "outputs": [],
   "source": [
    "#Select only those observations and columns we need: \n",
    "countries2 = countries[countries.incomeLevel != 'Aggregates']"
   ]
  },
  {
   "cell_type": "code",
   "execution_count": null,
   "metadata": {
    "id": "TlNVYVm7y1ZU"
   },
   "outputs": [],
   "source": [
    "countries3 = countries2[['name', 'iso3c','incomeLevel']]\n",
    "countries3.head()"
   ]
  },
  {
   "cell_type": "code",
   "execution_count": null,
   "metadata": {
    "id": "abN-0b7Fy1ZV"
   },
   "outputs": [],
   "source": [
    "OECD_founders = ['Belgium','France','Germany','Italy','Luxembourg','Netherlands','United States',\n",
    "                'Canada','Japan']\n"
   ]
  },
  {
   "cell_type": "code",
   "execution_count": null,
   "metadata": {
    "id": "T1hdDmr7y1ZV"
   },
   "outputs": [],
   "source": [
    "countries4 = countries3[countries3.name.isin(OECD_founders)]"
   ]
  },
  {
   "cell_type": "code",
   "execution_count": null,
   "metadata": {
    "id": "7tRmyUjCy1ZV"
   },
   "outputs": [],
   "source": [
    "countries4.name.unique()"
   ]
  },
  {
   "cell_type": "code",
   "execution_count": null,
   "metadata": {
    "id": "IPJi5Iksy1ZW"
   },
   "outputs": [],
   "source": [
    "type(countries4)"
   ]
  },
  {
   "cell_type": "code",
   "execution_count": null,
   "metadata": {
    "id": "PrIqbmrCy1ZW"
   },
   "outputs": [],
   "source": [
    "countries_iso = list(countries4.iso3c.values)\n",
    "countries_iso"
   ]
  },
  {
   "cell_type": "code",
   "execution_count": null,
   "metadata": {
    "id": "Fb3iVpQuy1ZW"
   },
   "outputs": [],
   "source": [
    "# Let's plot GNI per capita since 1960 for the OECD countries\n",
    "\n",
    "\n",
    "# Create a reader object, pass it the data ID and country codes we want\n",
    "\n",
    "reader = wb.WorldBankReader(symbols=GNI_ID,\n",
    "                            countries = countries_iso,\n",
    "                            start=1960)\n",
    "GNI_capita = reader.read()\n",
    "GNI_capita.head()"
   ]
  },
  {
   "cell_type": "code",
   "execution_count": null,
   "metadata": {
    "id": "0z6qRr8uy1ZW"
   },
   "outputs": [],
   "source": [
    "GNI_capita = GNI_capita.unstack(level=0)[GNI_ID]\n",
    "GNI_capita.head()\n",
    "\n",
    "GNI_capita.plot(figsize=[8,6])\n",
    "plt.title('GNI per capita for OECD founders since 1960')"
   ]
  },
  {
   "cell_type": "markdown",
   "metadata": {
    "id": "EpF9r1B-y1ZX"
   },
   "source": [
    "# EXERCISE-2: Using WDI API\n",
    "You going to generate a table of population for each country in Africa. "
   ]
  },
  {
   "cell_type": "markdown",
   "metadata": {
    "id": "9aP5PIBzy1ZX"
   },
   "source": [
    "## Get indicator name and identify indicator id/code\n",
    "Use the website [here](http://datatopics.worldbank.org/world-development-indicators/themes/people.html) \n",
    "to get indicator name for total population."
   ]
  },
  {
   "cell_type": "code",
   "execution_count": null,
   "metadata": {
    "id": "X5_jdnz0y1ZX"
   },
   "outputs": [],
   "source": [
    "indicator_id = YOUR CODE HERE"
   ]
  },
  {
   "cell_type": "markdown",
   "metadata": {
    "id": "AooAjPxcy1ZY"
   },
   "source": [
    "## Get ISO codes for African Countries\n",
    "In the data folder, there is a CSV file ```country_codes_africa.csv```. We will use pandas to read the file and extract country names and use them to generate a list of ISO codes for African countries."
   ]
  },
  {
   "cell_type": "code",
   "execution_count": null,
   "metadata": {
    "id": "icfO1pf5y1ZY"
   },
   "outputs": [],
   "source": [
    "# Get ISO codes for African Countries\n",
    "iso_codes_file = YOUR CODE HERE\n",
    "\n",
    "# Read CSV into dataframe\n",
    "df_iso = YOUR CODE HERE\n",
    "\n",
    "# Check the dataframe using the head function\n",
    "\n",
    "# Put the ISO codes into a list\n",
    "countries = wb.get_countries()\n",
    "names = list(df_iso.NAME_0.values)\n",
    "afr_iso = countries.iso3c[countries.name.isin(names)]"
   ]
  },
  {
   "cell_type": "markdown",
   "metadata": {
    "id": "6N575dDzy1ZY"
   },
   "source": [
    "## Get the Population Data for  2010\n",
    "Please use the documentation for the function ```wb.WorldBankReader``` \n",
    "to understand how to use the parameters ```start``` and ```end``` to get data for 2010 only."
   ]
  },
  {
   "cell_type": "code",
   "execution_count": null,
   "metadata": {
    "id": "gNztNrqQy1ZZ"
   },
   "outputs": [],
   "source": [
    "reader = wb.WorldBankReader(symbols=,\n",
    "                            countries = countries_iso,\n",
    "                            start=1960)\n",
    "pop = YOUR CODE HERE\n",
    "pop = pop.reset_index()\n",
    "\n",
    "# display the first 10 rows of the dataframe\n",
    "YOUR CODE HERE\n",
    "\n",
    "# Rename the SP.POP.TOTL column. Check pandas documentation \n",
    "# to see how you can rename a column\n",
    "YOUR CODE HERE"
   ]
  },
  {
   "cell_type": "markdown",
   "metadata": {
    "id": "NMPMBa2My1ZZ"
   },
   "source": [
    "## Which Country Has The Largest Population in Africa? \n",
    "Please use this method ```max(list)``` to find the country with the largest population.\n",
    "**Hint:** first put the population into a list and then use the method above."
   ]
  },
  {
   "cell_type": "markdown",
   "metadata": {
    "id": "BKbsAkOqy1ZZ"
   },
   "source": [
    "Please answer the same question above this time using a method \n",
    "provided by pandas. Check pandas documentation on how to find a maximum value for a column"
   ]
  },
  {
   "cell_type": "code",
   "execution_count": null,
   "metadata": {},
   "outputs": [],
   "source": []
  }
 ],
 "metadata": {
  "colab": {
   "provenance": []
  },
  "kernelspec": {
   "display_name": "Python 3",
   "language": "python",
   "name": "python3"
  },
  "language_info": {
   "codemirror_mode": {
    "name": "ipython",
    "version": 3
   },
   "file_extension": ".py",
   "mimetype": "text/x-python",
   "name": "python",
   "nbconvert_exporter": "python",
   "pygments_lexer": "ipython3",
   "version": "3.11.7"
  },
  "toc": {
   "base_numbering": 1,
   "nav_menu": {},
   "number_sections": false,
   "sideBar": true,
   "skip_h1_title": false,
   "title_cell": "Table of Contents",
   "title_sidebar": "Contents",
   "toc_cell": false,
   "toc_position": {},
   "toc_section_display": true,
   "toc_window_display": false
  }
 },
 "nbformat": 4,
 "nbformat_minor": 4
}
